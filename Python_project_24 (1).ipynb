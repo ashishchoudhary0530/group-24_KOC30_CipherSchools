{
  "cells": [
    {
      "cell_type": "code",
      "execution_count": 4,
      "metadata": {
        "id": "Q5mBisN5o8rl",
        "colab": {
          "base_uri": "https://localhost:8080/"
        },
        "outputId": "a1d7116a-4e69-474f-fa83-ecc706ebb238"
      },
      "outputs": [
        {
          "output_type": "stream",
          "name": "stdout",
          "text": [
            "enter the starting year: 2000\n",
            "enter the ending year: 2010\n",
            "leap year are:  [2000, 2004, 2008]\n",
            "Non leap year are:  [2001, 2002, 2003, 2005, 2006, 2007, 2009, 2010]\n"
          ]
        }
      ],
      "source": [
        "#Leap year Program\n",
        "year = int(input(\"enter the starting year: \"))\n",
        "year2 = int(input(\"enter the ending year: \"))\n",
        "s = []\n",
        "b = []\n",
        "for i in range(year, (year2)+1):\n",
        "  if i % 4 == 0:\n",
        "    if i % 100 != 0:\n",
        "     s.append(i)\n",
        "\n",
        "    elif i % 100 == 0:\n",
        "      if i % 400 == 0:\n",
        "        s.append(i)\n",
        "\n",
        "      else:\n",
        "        b.append(i)\n",
        "  else:\n",
        "    b.append(i)\n",
        "\n",
        "print(\"leap year are: \",s)\n",
        "print(\"Non leap year are: \",b)"
      ]
    }
  ],
  "metadata": {
    "colab": {
      "provenance": []
    },
    "kernelspec": {
      "display_name": "Python 3",
      "name": "python3"
    },
    "language_info": {
      "name": "python"
    }
  },
  "nbformat": 4,
  "nbformat_minor": 0
}