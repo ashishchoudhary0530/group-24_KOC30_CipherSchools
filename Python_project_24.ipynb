{
  "cells": [
    {
      "cell_type": "code",
      "execution_count": null,
      "metadata": {
        "id": "Q5mBisN5o8rl"
      },
      "outputs": [],
      "source": [
        "i = int(input())\n",
        "i = int(input())\n",
        "if (i % 400 == 0):\n",
        "  print(\"leap year are:\", i)\n",
        "elif (i % 4 == 0 and i % 100 != 0):\n",
        "  print(\"leap year are:\", i)\n",
        "else:\n",
        "  print(\"Non leap years are:\",i)"
      ]
    }
  ],
  "metadata": {
    "colab": {
      "provenance": []
    },
    "kernelspec": {
      "display_name": "Python 3",
      "name": "python3"
    },
    "language_info": {
      "name": "python"
    }
  },
  "nbformat": 4,
  "nbformat_minor": 0
}
